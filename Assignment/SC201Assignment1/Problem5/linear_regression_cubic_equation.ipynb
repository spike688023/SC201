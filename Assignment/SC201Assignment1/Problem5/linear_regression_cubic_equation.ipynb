{
 "cells": [
  {
   "cell_type": "code",
   "execution_count": null,
   "metadata": {},
   "outputs": [],
   "source": [
    "# File: linear_regression_one_varialbe\n",
    "# Name: \n",
    "# ----------------------------\n",
    "# This file shows the fundamental concepts of \n",
    "# machine learing:\n",
    "#   - loss function\n",
    "#   - cost function\n",
    "#   - linear regression\n",
    "#.  - polynomial features\n",
    "#   - training process"
   ]
  },
  {
   "cell_type": "code",
   "execution_count": null,
   "metadata": {},
   "outputs": [],
   "source": [
    "import matplotlib.pyplot as plt\n",
    "import numpy as np"
   ]
  },
  {
   "cell_type": "code",
   "execution_count": null,
   "metadata": {},
   "outputs": [],
   "source": [
    "# This function computes the L2 loss which is \n",
    "# ----------------------------------------\n",
    "# [sum of (hypothesis(x_i) - y_i)^2] / (2*m)\n",
    "# where hypothesis(x_i) == theta1(x_i^3) + theta2(x_i^2) + theta3(x_i) + b\n",
    "# ----------------------------------------\n",
    "# theta1: float, the parameter of x_i^3\n",
    "# theta2: float, the parameter of x_i^2\n",
    "# theta3: float, the parameter of x_i\n",
    "# b     : float, the parameter that controls the amount of line shift\n",
    "# x     : list, containing 21 data points\n",
    "# y     : list, containing 21 data points\n",
    "# return: float, the sum over all L2 losses of data points\n",
    "\n",
    "def cost_function(theta1, theta2, theta3, b, x, y):\n",
    "    pass\n",
    "        "
   ]
  },
  {
   "cell_type": "code",
   "execution_count": null,
   "metadata": {},
   "outputs": [],
   "source": [
    "# Test for cost_function. You should see 0.14631688333333334\n",
    "print(cost_function(0.1, 0.2, 0.3, -0.5, [0.3, 0.4, 0.5], [0.1, 0.2, 0.3]))"
   ]
  },
  {
   "cell_type": "code",
   "execution_count": null,
   "metadata": {},
   "outputs": [],
   "source": [
    "def dJ_dtheta1(theta1, theta2, theta3, b, x, y):\n",
    "    pass"
   ]
  },
  {
   "cell_type": "code",
   "execution_count": null,
   "metadata": {},
   "outputs": [],
   "source": [
    "# Test for dJ_dtheta1. You should see -0.040437\n",
    "print(dJ_dtheta1(0.1, 0.2, 0.3, -0.5, [0.3, 0.4, 0.5], [0.1, 0.2, 0.3]))"
   ]
  },
  {
   "cell_type": "code",
   "execution_count": null,
   "metadata": {},
   "outputs": [],
   "source": [
    "def dJ_dtheta2(theta1, theta2, theta3, b, x, y):\n",
    "    pass"
   ]
  },
  {
   "cell_type": "code",
   "execution_count": null,
   "metadata": {},
   "outputs": [],
   "source": [
    "# Test for dJ_dtheta2. You should see -0.09252266666666666\n",
    "print(dJ_dtheta2(0.1, 0.2, 0.3, -0.5, [0.3, 0.4, 0.5], [0.1, 0.2, 0.3]))"
   ]
  },
  {
   "cell_type": "code",
   "execution_count": null,
   "metadata": {},
   "outputs": [],
   "source": [
    "def dJ_dtheta3(theta1, theta2, theta3, b, x, y):\n",
    "    pass"
   ]
  },
  {
   "cell_type": "code",
   "execution_count": null,
   "metadata": {},
   "outputs": [],
   "source": [
    "# Test for dJ_dtheta3. You should see -0.21906\n",
    "print(dJ_dtheta3(0.1, 0.2, 0.3, -0.5, [0.3, 0.4, 0.5], [0.1, 0.2, 0.3]))"
   ]
  },
  {
   "cell_type": "code",
   "execution_count": null,
   "metadata": {},
   "outputs": [],
   "source": [
    "def dJ_db(theta1, theta2, theta3, b, x, y):\n",
    "    pass"
   ]
  },
  {
   "cell_type": "code",
   "execution_count": null,
   "metadata": {},
   "outputs": [],
   "source": [
    "# Test for dJ_db. You should see -0.5394666666666666\n",
    "print(dJ_db(0.1, 0.2, 0.3, -0.5, [0.3, 0.4, 0.5], [0.1, 0.2, 0.3]))"
   ]
  },
  {
   "cell_type": "code",
   "execution_count": null,
   "metadata": {},
   "outputs": [],
   "source": [
    "# ---------- DO NOT EDIT THE CODE BELOW THIS LINE ---------- #"
   ]
  },
  {
   "cell_type": "code",
   "execution_count": null,
   "metadata": {},
   "outputs": [],
   "source": [
    "x = [6.1101,5.5277,8.5186,7.0032,5.8598,8.3829,7.4764,8.5781,6.4862,5.0546,5.7107,10.164,5.734,8.4084,5.6407,5.3794,6.3654,5.1301,6.4296,7.0708,6.1891]"
   ]
  },
  {
   "cell_type": "code",
   "execution_count": null,
   "metadata": {},
   "outputs": [],
   "source": [
    "y = [6.592,9.1302,13.662,11.854,6.8233,11.886,4.3483,12,6.5987,3.8166,3.2522,15.505,3.1551,7.2258,0.71618,3.5129,5.3048,0.56077,3.6518,5.3893,3.1386]"
   ]
  },
  {
   "cell_type": "code",
   "execution_count": null,
   "metadata": {},
   "outputs": [],
   "source": [
    "# ---------- Showing your data ---------- #"
   ]
  },
  {
   "cell_type": "code",
   "execution_count": null,
   "metadata": {},
   "outputs": [],
   "source": [
    "plt.scatter(x, y)\n",
    "axes = plt.gca()\n",
    "axes.set_xlim([0,12])\n",
    "axes.set_ylim([0,30])"
   ]
  },
  {
   "cell_type": "code",
   "execution_count": null,
   "metadata": {},
   "outputs": [],
   "source": [
    "# Please perform feature scaling (normalization) by: \n",
    "# subtracting min(x) from each data point and dividing the result with (max(x)-min(x))\n",
    "x = # TODO:\n",
    "y = # TODO:"
   ]
  },
  {
   "cell_type": "code",
   "execution_count": null,
   "metadata": {},
   "outputs": [],
   "source": [
    "print(x[10])         # You should see 0.12841038086663803\n",
    "print(y[10])         # You should see 0.18009827204211928"
   ]
  },
  {
   "cell_type": "code",
   "execution_count": null,
   "metadata": {},
   "outputs": [],
   "source": [
    "plt.scatter(x, y)\n",
    "axes = plt.gca()\n",
    "axes.set_xlim([-1,1.5])\n",
    "axes.set_ylim([0,2])"
   ]
  },
  {
   "cell_type": "code",
   "execution_count": null,
   "metadata": {},
   "outputs": [],
   "source": [
    "# ------------ Initialize your theta ------------ #\n",
    "# -----------  Choose from -1 to +1 ------------ #"
   ]
  },
  {
   "cell_type": "code",
   "execution_count": null,
   "metadata": {},
   "outputs": [],
   "source": [
    "theta1 = # TODO:\n",
    "theta2 = # TODO:\n",
    "theta3 = # TODO:\n",
    "b = # TODO:\n"
   ]
  },
  {
   "cell_type": "code",
   "execution_count": null,
   "metadata": {},
   "outputs": [],
   "source": [
    "# ---------- Initialize your alpha ---------- #"
   ]
  },
  {
   "cell_type": "code",
   "execution_count": null,
   "metadata": {},
   "outputs": [],
   "source": [
    "# TODO: which value is appropriate for alpha?\n",
    "# Try 0.001, 0.01, 0.1"
   ]
  },
  {
   "cell_type": "code",
   "execution_count": null,
   "metadata": {},
   "outputs": [],
   "source": [
    "alpha = # TODO:"
   ]
  },
  {
   "cell_type": "code",
   "execution_count": null,
   "metadata": {},
   "outputs": [],
   "source": [
    "# ---------- Training process ---------- #\n",
    "# ---- 50 iterations over all data ----- # "
   ]
  },
  {
   "cell_type": "code",
   "execution_count": null,
   "metadata": {},
   "outputs": [],
   "source": [
    "# Remember to append updated theta1, theta2, theta3, b, and cost.\n",
    "\n",
    "theta1_history = []\n",
    "theta2_history = []\n",
    "theta3_history = []\n",
    "b_history = []\n",
    "cost_history = []\n",
    "for i in range(50):\n",
    "    pass\n"
   ]
  },
  {
   "cell_type": "code",
   "execution_count": null,
   "metadata": {},
   "outputs": [],
   "source": [
    "# ---------- Cost changes during training process ---------- #"
   ]
  },
  {
   "cell_type": "code",
   "execution_count": null,
   "metadata": {},
   "outputs": [],
   "source": [
    "# Pay attention to the trend of cost. \n",
    "# Is is rising? If it is, why?\n",
    "\n",
    "print(cost_history)"
   ]
  },
  {
   "cell_type": "code",
   "execution_count": null,
   "metadata": {},
   "outputs": [],
   "source": [
    "# ---------------------------- Please do not modify codes below this line ---------------------------- #"
   ]
  },
  {
   "cell_type": "code",
   "execution_count": null,
   "metadata": {},
   "outputs": [],
   "source": [
    "theta1 = theta1_history[0]\n",
    "theta2 = theta2_history[0]\n",
    "theta3 = theta3_history[0]\n",
    "b = b_history[0]\n",
    "\n",
    "print(f'theta1: {theta1}, theta2: {theta2}, theta3: {theta3}, b: {b}')\n",
    "\n",
    "x_plot = np.linspace(-0.25, 1.25, 100)\n",
    "y_plot = theta1*(x_plot**3)+theta2*(x_plot**2)+theta3*(x_plot)+b\n",
    "\n",
    "\n",
    "plt.scatter(x_plot, y_plot, color='red')\n",
    "plt.scatter(x, y, color='blue')\n",
    "\n",
    "\n",
    "# show the plot\n",
    "plt.title(\"1 iterations\", color='red', fontdict = {'fontsize': 20})\n",
    "plt.show()"
   ]
  },
  {
   "cell_type": "code",
   "execution_count": null,
   "metadata": {},
   "outputs": [],
   "source": [
    "theta1 = theta1_history[9]\n",
    "theta2 = theta2_history[9]\n",
    "theta3 = theta3_history[9]\n",
    "b = b_history[9]\n",
    "\n",
    "print(f'theta1: {theta1}, theta2: {theta2}, theta3: {theta3}, b: {b}')\n",
    "\n",
    "x_plot = np.linspace(-0.25, 1.25, 100)\n",
    "y_plot = theta1*(x_plot**3)+theta2*(x_plot**2)+theta3*(x_plot)+b\n",
    "\n",
    "\n",
    "plt.scatter(x_plot, y_plot, color='red')\n",
    "plt.scatter(x, y, color='blue')\n",
    "\n",
    "\n",
    "# show the plot\n",
    "plt.title(\"10 iterations\", color='red', fontdict = {'fontsize': 20})\n",
    "plt.show()"
   ]
  },
  {
   "cell_type": "code",
   "execution_count": null,
   "metadata": {},
   "outputs": [],
   "source": [
    "theta1 = theta1_history[19]\n",
    "theta2 = theta2_history[19]\n",
    "theta3 = theta3_history[19]\n",
    "b = b_history[19]\n",
    "\n",
    "print(f'theta1: {theta1}, theta2: {theta2}, theta3: {theta3}, b: {b}')\n",
    "\n",
    "x_plot = np.linspace(-0.25, 1.25, 100)\n",
    "y_plot = theta1*(x_plot**3)+theta2*(x_plot**2)+theta3*(x_plot)+b\n",
    "\n",
    "\n",
    "plt.scatter(x_plot, y_plot, color='red')\n",
    "plt.scatter(x, y, color='blue')\n",
    "\n",
    "\n",
    "# show the plot\n",
    "plt.title(\"20 iterations\", color='red', fontdict = {'fontsize': 20})\n",
    "plt.show()"
   ]
  },
  {
   "cell_type": "code",
   "execution_count": null,
   "metadata": {},
   "outputs": [],
   "source": [
    "# ---------- Plot the errors over the training process ---------- #"
   ]
  },
  {
   "cell_type": "code",
   "execution_count": null,
   "metadata": {},
   "outputs": [],
   "source": [
    "theta1 = theta1_history[29]\n",
    "theta2 = theta2_history[29]\n",
    "theta3 = theta3_history[29]\n",
    "b = b_history[29]\n",
    "\n",
    "print(f'theta1: {theta1}, theta2: {theta2}, theta3: {theta3}, b: {b}')\n",
    "\n",
    "x_plot = np.linspace(-0.25, 1.25, 100)\n",
    "y_plot = theta1*(x_plot**3)+theta2*(x_plot**2)+theta3*(x_plot)+b\n",
    "\n",
    "\n",
    "plt.scatter(x_plot, y_plot, color='red')\n",
    "plt.scatter(x, y, color='blue')\n",
    "\n",
    "\n",
    "# show the plot\n",
    "plt.title(\"30 iterations\", color='red', fontdict = {'fontsize': 20})\n",
    "plt.show()"
   ]
  },
  {
   "cell_type": "code",
   "execution_count": null,
   "metadata": {},
   "outputs": [],
   "source": [
    "theta1 = theta1_history[39]\n",
    "theta2 = theta2_history[39]\n",
    "theta3 = theta3_history[39]\n",
    "b = b_history[39]\n",
    "\n",
    "print(f'theta1: {theta1}, theta2: {theta2}, theta3: {theta3}, b: {b}')\n",
    "\n",
    "x_plot = np.linspace(-0.25, 1.25, 100)\n",
    "y_plot = theta1*(x_plot**3)+theta2*(x_plot**2)+theta3*(x_plot)+b\n",
    "\n",
    "\n",
    "plt.scatter(x_plot, y_plot, color='red')\n",
    "plt.scatter(x, y, color='blue')\n",
    "\n",
    "\n",
    "# show the plot\n",
    "plt.title(\"40 iterations\", color='red', fontdict = {'fontsize': 20})\n",
    "plt.show()"
   ]
  },
  {
   "cell_type": "code",
   "execution_count": null,
   "metadata": {},
   "outputs": [],
   "source": [
    "cost_x = list(range(len(cost_history)))\n",
    "cost_y = cost_history\n",
    "plt.plot(cost_x, cost_y)\n",
    "plt.title(\"Errors over iterations\", color = 'blue')"
   ]
  },
  {
   "cell_type": "code",
   "execution_count": null,
   "metadata": {},
   "outputs": [],
   "source": []
  },
  {
   "cell_type": "code",
   "execution_count": null,
   "metadata": {},
   "outputs": [],
   "source": []
  }
 ],
 "metadata": {
  "kernelspec": {
   "display_name": "Python 3",
   "language": "python",
   "name": "python3"
  },
  "language_info": {
   "codemirror_mode": {
    "name": "ipython",
    "version": 3
   },
   "file_extension": ".py",
   "mimetype": "text/x-python",
   "name": "python",
   "nbconvert_exporter": "python",
   "pygments_lexer": "ipython3",
   "version": "3.8.5"
  }
 },
 "nbformat": 4,
 "nbformat_minor": 4
}
