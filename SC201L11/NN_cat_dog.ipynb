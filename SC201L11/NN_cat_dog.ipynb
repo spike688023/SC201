{
 "cells": [
  {
   "cell_type": "code",
   "execution_count": 1,
   "metadata": {},
   "outputs": [],
   "source": [
    "import numpy as np\n",
    "from PIL import Image\n",
    "import matplotlib.pyplot as plt\n",
    "import os\n",
    "import random"
   ]
  },
  {
   "cell_type": "code",
   "execution_count": null,
   "metadata": {},
   "outputs": [],
   "source": []
  },
  {
   "cell_type": "code",
   "execution_count": 4,
   "metadata": {},
   "outputs": [],
   "source": [
    "# Load data\n",
    "file_path = 'train/'\n",
    "data_lst = []\n",
    "for filename in os.listdir(file_path):\n",
    "    if 'dog' not in filename and 'cat' not in filename:\n",
    "        continue\n",
    "    real_file_path = file_path + filename\n",
    "    img = Image.open(real_file_path)\n",
    "    img = img.resize((64, 64))\n",
    "    data = np.array(img)\n",
    "    data = data.reshape(64*64*3, 1)\n",
    "    if 'cat' in filename:\n",
    "        data_lst.append((data, 1, img))\n",
    "    elif 'dog' in filename:\n",
    "        data_lst.append((data, 0, img))"
   ]
  },
  {
   "cell_type": "code",
   "execution_count": 5,
   "metadata": {},
   "outputs": [],
   "source": [
    "X_lst = list(data_lst[i][0] for i in range(len(data_lst)))\n",
    "Y_lst = list(data_lst[i][1] for i in range(len(data_lst)))\n",
    "img_lst = list(data_lst[i][2] for i in range(len(data_lst)))"
   ]
  },
  {
   "cell_type": "code",
   "execution_count": 6,
   "metadata": {},
   "outputs": [],
   "source": [
    "# Convert Python list to numpy array\n",
    "X = np.array(X_lst)\n",
    "Y = np.array(Y_lst)"
   ]
  },
  {
   "cell_type": "code",
   "execution_count": 10,
   "metadata": {},
   "outputs": [
    {
     "name": "stdout",
     "output_type": "stream",
     "text": [
      "X.shape: (12288, 1002)\n",
      "Y.shaoe: (1, 1002)\n"
     ]
    }
   ],
   "source": [
    "# Convert to array with correct dimensions\n",
    "X = X.reshape(X.shape[0], X.shape[1])\n",
    "Y = Y.reshape(Y.shape[0], 1)\n",
    "X = X.T\n",
    "Y = Y.T\n",
    "print('X.shape:', X.shape)\n",
    "print('Y.shaoe:', Y.shape)"
   ]
  },
  {
   "cell_type": "code",
   "execution_count": 12,
   "metadata": {},
   "outputs": [],
   "source": [
    "# Normalization\n",
    "min_X = np.min(X)\n",
    "max_X = np.max(X)\n",
    "X = (X - min_X)/(max_X - min_X)"
   ]
  },
  {
   "cell_type": "code",
   "execution_count": 14,
   "metadata": {},
   "outputs": [
    {
     "name": "stdout",
     "output_type": "stream",
     "text": [
      "5530865.372549014\n"
     ]
    }
   ],
   "source": [
    "# You should see 5530865.372549014 or 5531484.431372557\n",
    "# (Don't worry if value deviates from this)\n",
    "print(np.sum(X))"
   ]
  },
  {
   "cell_type": "code",
   "execution_count": 26,
   "metadata": {},
   "outputs": [],
   "source": [
    "# Initializing parameters of a 2-layer neural network\n",
    "np.random.seed(0)\n",
    "N0, m = X.shape\n",
    "N1 = 10\n",
    "N2 = 1\n",
    "# Initialize W1\n",
    "W1 = np.random.rand(N0, N1) - 0.5\n",
    "\n",
    "# Initialize B1\n",
    "B1 = np.random.rand(N1, 1) - 0.5\n",
    "\n",
    "# Initialize W2\n",
    "W2 = np.random.rand(N1, N2) - 0.5\n",
    "\n",
    "# Initialize B2\n",
    "B2 = np.random.rand(N2, 1) - 0.5"
   ]
  },
  {
   "cell_type": "code",
   "execution_count": 28,
   "metadata": {},
   "outputs": [
    {
     "name": "stdout",
     "output_type": "stream",
     "text": [
      "32.838553644951105\n"
     ]
    }
   ],
   "source": [
    "# You should see 32.838553644951105\n",
    "print(np.sum(W1))"
   ]
  },
  {
   "cell_type": "code",
   "execution_count": 30,
   "metadata": {},
   "outputs": [
    {
     "name": "stdout",
     "output_type": "stream",
     "text": [
      "-1.0433989293244808\n"
     ]
    }
   ],
   "source": [
    "# You should see -1.0433989293244808\n",
    "print(np.sum(B1))"
   ]
  },
  {
   "cell_type": "code",
   "execution_count": 32,
   "metadata": {},
   "outputs": [
    {
     "name": "stdout",
     "output_type": "stream",
     "text": [
      "-0.4229774016622794\n"
     ]
    }
   ],
   "source": [
    "# You should see -0.4229774016622794\n",
    "print(np.sum(W2))"
   ]
  },
  {
   "cell_type": "code",
   "execution_count": 34,
   "metadata": {},
   "outputs": [
    {
     "name": "stdout",
     "output_type": "stream",
     "text": [
      "-0.4841141325352224\n"
     ]
    }
   ],
   "source": [
    "# You should see -0.4841141325352224\n",
    "print(np.sum(B2))"
   ]
  },
  {
   "cell_type": "code",
   "execution_count": null,
   "metadata": {},
   "outputs": [],
   "source": []
  },
  {
   "cell_type": "code",
   "execution_count": 38,
   "metadata": {},
   "outputs": [
    {
     "name": "stdout",
     "output_type": "stream",
     "text": [
      "Cost : 4.424046966453417\n",
      "Cost : 0.6908601205836482\n",
      "Cost : 0.6863672890425341\n",
      "Cost : 0.6816175716972489\n",
      "Cost : 0.6772474738818115\n",
      "Cost : 0.6715557559236371\n",
      "Cost : 0.6652841749066093\n",
      "Cost : 0.6590535794515535\n",
      "Cost : 0.6522672256922352\n",
      "Cost : 0.6446412773036613\n",
      "Cost : 0.6368039035337787\n",
      "Cost : 0.6293621559218476\n",
      "Cost : 0.6220930415504082\n",
      "Cost : 0.6143945178372001\n",
      "Cost : 0.6065124007026886\n",
      "Cost : 0.5987444409791776\n",
      "Cost : 0.5909666142346334\n",
      "Cost : 0.5830701752594613\n",
      "Cost : 0.5749493645636091\n",
      "Cost : 0.5668938188793071\n",
      "Cost : 0.5588571792301286\n",
      "Cost : 0.5506135683340725\n",
      "Cost : 0.5422732341136138\n",
      "Cost : 0.5339135381973625\n",
      "Cost : 0.525565520453416\n",
      "Cost : 0.5171064036261142\n",
      "Cost : 0.508136586991663\n",
      "Cost : 0.4993586492890011\n",
      "Cost : 0.4905035289585374\n",
      "Cost : 0.481821243962513\n"
     ]
    }
   ],
   "source": [
    "#################### Training ####################\n",
    "alpha = 0.02\n",
    "cost_history = []\n",
    "print_every = 200\n",
    "for epoch in range(6000):\n",
    "    \n",
    "    # Forward Pass\n",
    "    K1 = W1.T.dot(X) + B1\n",
    "    A1 = np.maximum(0, K1)\n",
    "    K2 = W2.T.dot(A1) + B2\n",
    "    H = 1/(1+np.exp(-K2))\n",
    "    L = -(Y*np.log(H)+(1-Y)*np.log(1-H))\n",
    "    J = (1/m) * np.sum(L)\n",
    "    if epoch % print_every == 0:\n",
    "        cost_history.append(J)\n",
    "        print(\"Cost :\", J)\n",
    "    \n",
    "    # Backward Pass\n",
    "    dK2 = (1/m)*np.sum(H-Y, axis=0, keepdims=True)\n",
    "    dB2 = np.sum(dK2, axis=1, keepdims=True)\n",
    "    dA1 = W2.dot(dK2)\n",
    "    dW2 = A1.dot(dK2.T)\n",
    "    dK1 = dA1*np.where(K1 > 0, 1, 0)\n",
    "    dB1 = np.sum(dK1, axis=1, keepdims=True)\n",
    "    dW1 = X.dot(dK1.T)\n",
    "    \n",
    "    # Updates \n",
    "    W1 = W1 - alpha * dW1\n",
    "    B1 = B1 - alpha * dB1\n",
    "    W2 = W2 - alpha * dW2\n",
    "    B2 = B2 - alpha * dB2\n",
    "    "
   ]
  },
  {
   "cell_type": "code",
   "execution_count": 40,
   "metadata": {},
   "outputs": [
    {
     "data": {
      "text/plain": [
       "Text(0.5, 1.0, 'Costs over iterations')"
      ]
     },
     "execution_count": 40,
     "metadata": {},
     "output_type": "execute_result"
    },
    {
     "data": {
      "image/png": "[encoded data removed]",
      "text/plain": [
       "<Figure size 640x480 with 1 Axes>"
      ]
     },
     "metadata": {},
     "output_type": "display_data"
    }
   ],
   "source": [
    "plot_x = list(range(len(cost_history)))\n",
    "plot_y = cost_history\n",
    "plt.plot(plot_x, plot_y)\n",
    "plt.title(\"Costs over iterations\", color = 'blue', fontdict = {'fontsize': 20})"
   ]
  },
  {
   "cell_type": "code",
   "execution_count": null,
   "metadata": {},
   "outputs": [],
   "source": []
  },
  {
   "cell_type": "code",
   "execution_count": 43,
   "metadata": {},
   "outputs": [
    {
     "name": "stdout",
     "output_type": "stream",
     "text": [
      "Training Acc: 0.7395209580838323\n"
     ]
    }
   ],
   "source": [
    "count = 0\n",
    "K1 = np.dot(W1.T, X) + B1\n",
    "A1 = np.maximum(0, K1)\n",
    "scores = np.dot(W2.T, A1) + B2\n",
    "predictions = np.where(scores>0, 1, 0)\n",
    "acc_arr = np.equal(predictions, Y)\n",
    "print('Training Acc:', np.sum(acc_arr)/m)"
   ]
  },
  {
   "cell_type": "code",
   "execution_count": null,
   "metadata": {},
   "outputs": [],
   "source": []
  },
  {
   "cell_type": "code",
   "execution_count": 46,
   "metadata": {},
   "outputs": [],
   "source": [
    "#################### Testing #################### "
   ]
  },
  {
   "cell_type": "code",
   "execution_count": 48,
   "metadata": {},
   "outputs": [],
   "source": [
    "file_path = 'test/'\n",
    "X_test = []\n",
    "Y_test = []\n",
    "for filename in os.listdir(file_path):\n",
    "    if 'cat' not in filename and 'dog' not in filename:\n",
    "        continue\n",
    "    real_file_path = file_path+filename\n",
    "    img = Image.open(real_file_path)\n",
    "    img = img.resize((64, 64))\n",
    "    arr = np.array(img)\n",
    "    arr = arr.reshape(64*64*3, 1)\n",
    "    arr = (arr - min_X) / (max_X - min_X)\n",
    "    X_test.append(arr)\n",
    "    if 'cat' in filename:\n",
    "        Y_test.append(1)\n",
    "    else:\n",
    "        Y_test.append(0)"
   ]
  },
  {
   "cell_type": "code",
   "execution_count": 50,
   "metadata": {},
   "outputs": [
    {
     "name": "stdout",
     "output_type": "stream",
     "text": [
      "Y_test.shape: (1, 100)\n",
      "X_test.shape: (12288, 100)\n"
     ]
    }
   ],
   "source": [
    "X_test = np.asarray(X_test)\n",
    "Y_test = np.asarray(Y_test)\n",
    "num_data = 100\n",
    "Y_test = Y_test.reshape(1, 100)\n",
    "print('Y_test.shape:', Y_test.shape)\n",
    "X_test = X_test.reshape(X_test.shape[0], X_test.shape[1])\n",
    "X_test = X_test.T\n",
    "print('X_test.shape:',X_test.shape)"
   ]
  },
  {
   "cell_type": "code",
   "execution_count": 52,
   "metadata": {},
   "outputs": [],
   "source": [
    "K1 = np.dot(W1.T, X_test) + B1\n",
    "A1 = np.maximum(0, K1)\n",
    "K2 = np.dot(W2.T, A1) + B2\n",
    "val_predictions = np.where(K2>0, 1, 0)\n",
    "acc_arr = np.equal(val_predictions, Y_test)\n",
    "correct = np.sum(acc_arr)"
   ]
  },
  {
   "cell_type": "code",
   "execution_count": 54,
   "metadata": {},
   "outputs": [
    {
     "name": "stdout",
     "output_type": "stream",
     "text": [
      "Number of data: 100\n",
      "Val Accuracy: 0.54\n"
     ]
    }
   ],
   "source": [
    "print('Number of data:', num_data)\n",
    "print('Val Accuracy:', correct/num_data)"
   ]
  },
  {
   "cell_type": "code",
   "execution_count": null,
   "metadata": {},
   "outputs": [],
   "source": []
  },
  {
   "cell_type": "code",
   "execution_count": null,
   "metadata": {},
   "outputs": [],
   "source": []
  }
 ],
 "metadata": {
  "kernelspec": {
   "display_name": "Python [conda env:base] *",
   "language": "python",
   "name": "conda-base-py"
  },
  "language_info": {
   "codemirror_mode": {
    "name": "ipython",
    "version": 3
   },
   "file_extension": ".py",
   "mimetype": "text/x-python",
   "name": "python",
   "nbconvert_exporter": "python",
   "pygments_lexer": "ipython3",
   "version": "3.12.7"
  }
 },
 "nbformat": 4,
 "nbformat_minor": 4
}
